{
 "cells": [
  {
   "cell_type": "code",
   "execution_count": 1,
   "metadata": {},
   "outputs": [],
   "source": [
    "#Defining a game list having position 0, 1, and 2. User needs to pick one position and replace by a string. \n",
    "game_list=[0,1,2]"
   ]
  },
  {
   "cell_type": "code",
   "execution_count": 2,
   "metadata": {},
   "outputs": [],
   "source": [
    "#Defining a function that displays the current game list.\n",
    "def display_game(game_list):\n",
    "    print(\"The current list is: \")\n",
    "    print(game_list)"
   ]
  },
  {
   "cell_type": "code",
   "execution_count": 3,
   "metadata": {},
   "outputs": [],
   "source": [
    "#Defining a function to let user choose a position.\n",
    "def position_choice():\n",
    "    \n",
    "#Defining a random wrong string to satisfy the \"not in\" condition of while loop.\n",
    "    choice=\"incorrect\"\n",
    "    \n",
    "    while choice not in [\"0\",\"1\",\"2\"]:\n",
    "        choice=input(\"Pick a position from 0, 1, or 2: \")\n",
    "        \n",
    "#If any other option than \"0\", \"1\", or \"2\" is selected, then invalid input message is displayed.\n",
    "        if choice not in [\"0\",\"1\",\"2\"]:\n",
    "            print(\"Wrong input! Pick again. \")\n",
    "    return int(choice)        "
   ]
  },
  {
   "cell_type": "code",
   "execution_count": 4,
   "metadata": {},
   "outputs": [],
   "source": [
    "#Defining a function to input a string which will be placed at desired position.\n",
    "def replacement_choice(game_list,position):\n",
    "\n",
    "#Taking a string from user.\n",
    "    user_placement=input(\"Type a string to place at selected position: \")\n",
    "    \n",
    "#Assigning the string to the desired position of game list.\n",
    "    game_list[position]=user_placement\n",
    "    return game_list"
   ]
  },
  {
   "cell_type": "code",
   "execution_count": null,
   "metadata": {},
   "outputs": [],
   "source": [
    "#Defining a function to know if the user wants to continue the game or not.\n",
    "def gameon_choice():\n",
    "    \n",
    "#Defining a random wrong string to satisfy the \"not in\" condition of the while loop. \n",
    "    choice=\"incorrect\"\n",
    "    while choice not in [\"YES\", \"NO\"]:\n",
    "        \n",
    "#Take the input \"YES\" or \"NO\" to know if user wants to continue or not.\n",
    "        choice=input(\"Keep Playing? Pick YES or NO: \")\n",
    "        \n",
    "        \n",
    "#If any other option than \"YES\" or \"NO\" is selected, then invalid input message is displayed.\n",
    "        if choice not in [\"YES\",\"NO\"]:\n",
    "            print(\"I don't understand. Please select either YES or NO\")\n",
    "    \n",
    "#True is returned if user selects YES and No is returned if NO is selected.    \n",
    "    if choice==\"YES\":\n",
    "        return True\n",
    "    else:\n",
    "        return False\n",
    "        "
   ]
  },
  {
   "cell_type": "code",
   "execution_count": null,
   "metadata": {},
   "outputs": [
    {
     "name": "stdout",
     "output_type": "stream",
     "text": [
      "The current list is: \n",
      "[0, 1, 2]\n"
     ]
    }
   ],
   "source": [
    "#Initially the game needs to start, so the game_on value is True.\n",
    "#game_on will change based on user's YES or NO, as given in last kernel.\n",
    "game_on=True\n",
    "\n",
    "#Initial game list is displyed. It'll change once position and string is given as input.\n",
    "game_list=[0,1,2]\n",
    "\n",
    "#Game will keep going on till game_on is TRUE, i.e. till NO is selected.\n",
    "while game_on:\n",
    "    \n",
    "#This function will display the current game list.\n",
    "    display_game(game_list)\n",
    "    \n",
    "#Function position_choice() takes any position as input from the user.\n",
    "#The input position is assigned to the \"position\" variable.\n",
    "    position=position_choice()\n",
    "    \n",
    "#Function replacement_choice replaces the position by the input string and returns the new game list.\n",
    "#The old game list is replaced by the new list and assigned to \"game_list\" variable.\n",
    "    game_list=replacement_choice(game_list,position)\n",
    "    \n",
    "#The new game list is displayed using this function.\n",
    "    display_game(game_list)\n",
    "    \n",
    "#This function takes input as \"YES' or \"NO' and tells if the user wants to continue the game or not.\n",
    "#YES returns True value and NO returns False value.\n",
    "#It is then assigned to the \"game_on\" variable. Loop continues if it is True otherwise it stops.\n",
    "    game_on=gameon_choice()"
   ]
  },
  {
   "cell_type": "code",
   "execution_count": null,
   "metadata": {},
   "outputs": [],
   "source": []
  },
  {
   "cell_type": "code",
   "execution_count": null,
   "metadata": {},
   "outputs": [],
   "source": []
  }
 ],
 "metadata": {
  "kernelspec": {
   "display_name": "Python 3",
   "language": "python",
   "name": "python3"
  },
  "language_info": {
   "codemirror_mode": {
    "name": "ipython",
    "version": 3
   },
   "file_extension": ".py",
   "mimetype": "text/x-python",
   "name": "python",
   "nbconvert_exporter": "python",
   "pygments_lexer": "ipython3",
   "version": "3.6.4"
  }
 },
 "nbformat": 4,
 "nbformat_minor": 2
}
